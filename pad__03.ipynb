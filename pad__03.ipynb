# /Users/darekdajcz/Desktop/Magisterka Studia PJATK/PAD/PAD_01/Seattle2014.csv
import numpy as np
import pandas as pd
import matplotlib.pyplot as plt
import seaborn

